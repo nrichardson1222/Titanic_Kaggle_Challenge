{
 "cells": [
  {
   "cell_type": "code",
   "execution_count": 106,
   "metadata": {},
   "outputs": [
    {
     "name": "stdout",
     "output_type": "stream",
     "text": [
      "   PassengerId  Survived  Pclass  \\\n",
      "0            1         0       3   \n",
      "1            2         1       1   \n",
      "2            3         1       3   \n",
      "3            4         1       1   \n",
      "4            5         0       3   \n",
      "\n",
      "                                                Name     Sex   Age  SibSp  \\\n",
      "0                            Braund, Mr. Owen Harris    male  22.0      1   \n",
      "1  Cumings, Mrs. John Bradley (Florence Briggs Th...  female  38.0      1   \n",
      "2                             Heikkinen, Miss. Laina  female  26.0      0   \n",
      "3       Futrelle, Mrs. Jacques Heath (Lily May Peel)  female  35.0      1   \n",
      "4                           Allen, Mr. William Henry    male  35.0      0   \n",
      "\n",
      "   Parch            Ticket     Fare Cabin Embarked  \n",
      "0      0         A/5 21171   7.2500   NaN        S  \n",
      "1      0          PC 17599  71.2833   C85        C  \n",
      "2      0  STON/O2. 3101282   7.9250   NaN        S  \n",
      "3      0            113803  53.1000  C123        S  \n",
      "4      0            373450   8.0500   NaN        S  \n",
      "The percentage of men who lived was  0.18890814558058924\n",
      "The percentage of women who lived was  0.7420382165605095\n",
      "This shows that there is a large correlation between gender and whether the person survived or not\n",
      "I will now look to see if there is an age correlation for survival\n"
     ]
    },
    {
     "name": "stderr",
     "output_type": "stream",
     "text": [
      "<ipython-input-106-8f485efd9f8b>:15: UserWarning: Boolean Series key will be reindexed to match DataFrame index.\n",
      "  numMenSurvived = data[data['Survived']==1][data['Sex']=='male']['Age'].size\n",
      "<ipython-input-106-8f485efd9f8b>:16: UserWarning: Boolean Series key will be reindexed to match DataFrame index.\n",
      "  numMenDied = data[data['Survived']==0][data['Sex']=='male']['Age'].size\n",
      "<ipython-input-106-8f485efd9f8b>:17: UserWarning: Boolean Series key will be reindexed to match DataFrame index.\n",
      "  numWomenSurvived = data[data['Survived']==1][data['Sex']=='female']['Age'].size\n",
      "<ipython-input-106-8f485efd9f8b>:18: UserWarning: Boolean Series key will be reindexed to match DataFrame index.\n",
      "  numWomenDied = data[data['Survived']==0][data['Sex']=='female']['Age'].size\n"
     ]
    },
    {
     "data": {
      "image/png": "[encoded data removed]",
      "text/plain": [
       "<Figure size 720x504 with 1 Axes>"
      ]
     },
     "metadata": {
      "needs_background": "light"
     },
     "output_type": "display_data"
    }
   ],
   "source": [
    "import pandas as pd\n",
    "from matplotlib import pyplot as plt\n",
    "import numpy as np\n",
    "import seaborn as sns\n",
    "import pylab as plot\n",
    "\n",
    "\n",
    "data = pd.read_csv('./train.csv')\n",
    "#print(data.shape) #in rows then columns\n",
    "print(data.head()) #gives the first five rows of each column\n",
    "\n",
    "data['Died'] = 1 - data['Survived']\n",
    "data['Age'] = data['Age'].fillna(data['Age'].median())\n",
    "\n",
    "numMenSurvived = data[data['Survived']==1][data['Sex']=='male']['Age'].size\n",
    "numMenDied = data[data['Survived']==0][data['Sex']=='male']['Age'].size\n",
    "numWomenSurvived = data[data['Survived']==1][data['Sex']=='female']['Age'].size\n",
    "numWomenDied = data[data['Survived']==0][data['Sex']=='female']['Age'].size\n",
    "\n",
    "\n",
    "data.groupby('Sex').agg('mean')[['Survived', 'Died']].plot(kind='bar', figsize=(10, 7), stacked=True)\n",
    "print(\"The percentage of men who lived was \", numMenSurvived/(numMenSurvived+numMenDied))\n",
    "print(\"The percentage of women who lived was \", numWomenSurvived/(numWomenSurvived+numWomenDied))\n",
    "\n",
    "print(\"This shows that there is a large correlation between gender and whether the person survived or not\")\n",
    "print(\"I will now look to see if there is an age correlation for survival\")\n",
    "\n"
   ]
  },
  {
   "cell_type": "code",
   "execution_count": 114,
   "metadata": {},
   "outputs": [
    {
     "name": "stdout",
     "output_type": "stream",
     "text": [
      "this shows that for men, younger boys were more likely to survive whereas older men were left on the ship\n"
     ]
    },
    {
     "name": "stderr",
     "output_type": "stream",
     "text": [
      "<ipython-input-114-767b64c9042e>:12: UserWarning: Boolean Series key will be reindexed to match DataFrame index.\n",
      "  plt.hist([data[data['Survived']==1][data['Sex']=='male']['Age'], data[data['Survived']==0][data['Sex']=='male']['Age']], stacked=True, color = ['g','r'], bins = 50, label = ['Survived','Dead'])\n",
      "<ipython-input-114-767b64c9042e>:12: UserWarning: Boolean Series key will be reindexed to match DataFrame index.\n",
      "  plt.hist([data[data['Survived']==1][data['Sex']=='male']['Age'], data[data['Survived']==0][data['Sex']=='male']['Age']], stacked=True, color = ['g','r'], bins = 50, label = ['Survived','Dead'])\n"
     ]
    },
    {
     "data": {
      "text/plain": [
       "<matplotlib.legend.Legend at 0x7fb1d1968490>"
      ]
     },
     "execution_count": 114,
     "metadata": {},
     "output_type": "execute_result"
    },
    {
     "data": {
      "image/png": "[encoded data removed]",
      "text/plain": [
       "<Figure size 432x288 with 1 Axes>"
      ]
     },
     "metadata": {
      "needs_background": "light"
     },
     "output_type": "display_data"
    }
   ],
   "source": [
    "import pandas as pd\n",
    "from matplotlib import pyplot as plt\n",
    "import numpy as np\n",
    "import seaborn as sns\n",
    "import pylab as plot\n",
    "\n",
    "print(\"this shows that for men, younger boys were more likely to survive whereas older men were left on the ship\")\n",
    "\n",
    "data = pd.read_csv('./train.csv')\n",
    "data['Age'] = data['Age'].fillna(data['Age'].median())\n",
    "\n",
    "plt.hist([data[data['Survived']==1][data['Sex']=='male']['Age'], data[data['Survived']==0][data['Sex']=='male']['Age']], stacked=True, color = ['g','r'], bins = 50, label = ['Survived','Dead'])\n",
    "plt.title(\"Male Survival Based on Age\")\n",
    "plt.xlabel('Age')\n",
    "plt.ylabel('Number of passengers')\n",
    "plt.legend()\n",
    "\n",
    "\n"
   ]
  },
  {
   "cell_type": "code",
   "execution_count": 36,
   "metadata": {},
   "outputs": [
    {
     "name": "stdout",
     "output_type": "stream",
     "text": [
      "This once again shows that younger women had a very great chance to survive.\n"
     ]
    },
    {
     "name": "stderr",
     "output_type": "stream",
     "text": [
      "<ipython-input-36-04278615fd5b>:11: UserWarning: Boolean Series key will be reindexed to match DataFrame index.\n",
      "  plt.hist([data[data['Survived']==1][data['Sex']=='female']['Age'], data[data['Survived']==0][data['Sex']=='female']['Age']], stacked=True, color = ['g','r'], bins = 50, label = ['Survived','Dead'])\n",
      "<ipython-input-36-04278615fd5b>:11: UserWarning: Boolean Series key will be reindexed to match DataFrame index.\n",
      "  plt.hist([data[data['Survived']==1][data['Sex']=='female']['Age'], data[data['Survived']==0][data['Sex']=='female']['Age']], stacked=True, color = ['g','r'], bins = 50, label = ['Survived','Dead'])\n"
     ]
    },
    {
     "data": {
      "text/plain": [
       "<matplotlib.legend.Legend at 0x7fb1f0efb850>"
      ]
     },
     "execution_count": 36,
     "metadata": {},
     "output_type": "execute_result"
    },
    {
     "data": {
      "image/png": "[encoded data removed]",
      "text/plain": [
       "<Figure size 432x288 with 1 Axes>"
      ]
     },
     "metadata": {
      "needs_background": "light"
     },
     "output_type": "display_data"
    }
   ],
   "source": [
    "import pandas as pd\n",
    "from matplotlib import pyplot as plt\n",
    "import numpy as np\n",
    "import seaborn as sns\n",
    "import pylab as plot\n",
    "\n",
    "print(\"This once again shows that younger women had a very great chance to survive.\")\n",
    "data = pd.read_csv('./train.csv')\n",
    "data['Age'] = data['Age'].fillna(data['Age'].median())\n",
    "\n",
    "plt.hist([data[data['Survived']==1][data['Sex']=='female']['Age'], data[data['Survived']==0][data['Sex']=='female']['Age']], stacked=True, color = ['g','r'], bins = 50, label = ['Survived','Dead'])\n",
    "# plt.hist(data[data['Survived']==1][data['Sex']=='male']['Age'],  bins = 50, weights=np.ones(len(data[data['Survived']==1][data['Sex']=='male']['Age'])) / len(data[data['Survived']==1][data['Sex']=='male']['Age']))\n",
    "\n",
    "plt.title(\"Female Survival Based on Age\")\n",
    "plt.xlabel('Age')\n",
    "plt.ylabel('Number of passengers')\n",
    "plt.legend()"
   ]
  },
  {
   "cell_type": "code",
   "execution_count": 39,
   "metadata": {},
   "outputs": [
    {
     "name": "stdout",
     "output_type": "stream",
     "text": [
      "Now I will check to see if there is a correlation bwetween fare and survival rate, implying that rich people had a higher chance of survival\n",
      "This shows that the women with the lowest fares were the ones most likely to die on the ship\n"
     ]
    },
    {
     "name": "stderr",
     "output_type": "stream",
     "text": [
      "<ipython-input-39-8bd10ac9107d>:12: UserWarning: Boolean Series key will be reindexed to match DataFrame index.\n",
      "  plt.hist([data[data['Survived']==1][data['Sex']=='female']['Fare'], data[data['Survived']==0][data['Sex']=='female']['Fare']], stacked=True, color = ['g','r'], bins = 50, label = ['Survived','Dead'])\n",
      "<ipython-input-39-8bd10ac9107d>:12: UserWarning: Boolean Series key will be reindexed to match DataFrame index.\n",
      "  plt.hist([data[data['Survived']==1][data['Sex']=='female']['Fare'], data[data['Survived']==0][data['Sex']=='female']['Fare']], stacked=True, color = ['g','r'], bins = 50, label = ['Survived','Dead'])\n"
     ]
    },
    {
     "data": {
      "text/plain": [
       "<matplotlib.legend.Legend at 0x7fb1e2f0d5b0>"
      ]
     },
     "execution_count": 39,
     "metadata": {},
     "output_type": "execute_result"
    },
    {
     "data": {
      "image/png": "[encoded data removed]",
      "text/plain": [
       "<Figure size 432x288 with 1 Axes>"
      ]
     },
     "metadata": {
      "needs_background": "light"
     },
     "output_type": "display_data"
    }
   ],
   "source": [
    "print(\"Now I will check to see if there is a correlation bwetween fare and survival rate, implying that rich people had a higher chance of survival\")\n",
    "\n",
    "import pandas as pd\n",
    "from matplotlib import pyplot as plt\n",
    "import numpy as np\n",
    "import seaborn as sns\n",
    "import pylab as plot\n",
    "\n",
    "data = pd.read_csv('./train.csv')\n",
    "data['Age'] = data['Age'].fillna(data['Age'].median())\n",
    "print(\"This shows that the women with the lowest fares were the ones most likely to die on the ship\")\n",
    "plt.hist([data[data['Survived']==1][data['Sex']=='female']['Fare'], data[data['Survived']==0][data['Sex']=='female']['Fare']], stacked=True, color = ['g','r'], bins = 50, label = ['Survived','Dead'])\n",
    "# plt.hist(data[data['Survived']==1][data['Sex']=='male']['Age'],  bins = 50, weights=np.ones(len(data[data['Survived']==1][data['Sex']=='male']['Age'])) / len(data[data['Survived']==1][data['Sex']=='male']['Age']))\n",
    "\n",
    "plt.title(\"Female Survival Based on Fare\")\n",
    "plt.xlabel('Fare')\n",
    "plt.ylabel('Number of passengers')\n",
    "plt.legend()"
   ]
  },
  {
   "cell_type": "code",
   "execution_count": 115,
   "metadata": {},
   "outputs": [
    {
     "name": "stdout",
     "output_type": "stream",
     "text": [
      "this shows that for men, younger boys were more likely to survive whereas older men were left on the ship\n"
     ]
    },
    {
     "name": "stderr",
     "output_type": "stream",
     "text": [
      "/Users/nicholasrichardson/opt/anaconda3/lib/python3.8/site-packages/seaborn/categorical.py:1296: UserWarning: 36.6% of the points cannot be placed; you may want to decrease the size of the markers or use stripplot.\n",
      "  warnings.warn(msg, UserWarning)\n",
      "/Users/nicholasrichardson/opt/anaconda3/lib/python3.8/site-packages/seaborn/categorical.py:1296: UserWarning: 69.0% of the points cannot be placed; you may want to decrease the size of the markers or use stripplot.\n",
      "  warnings.warn(msg, UserWarning)\n",
      "/Users/nicholasrichardson/opt/anaconda3/lib/python3.8/site-packages/seaborn/categorical.py:1296: UserWarning: 84.7% of the points cannot be placed; you may want to decrease the size of the markers or use stripplot.\n",
      "  warnings.warn(msg, UserWarning)\n"
     ]
    },
    {
     "data": {
      "text/plain": [
       "<AxesSubplot:xlabel='Pclass', ylabel='Fare'>"
      ]
     },
     "execution_count": 115,
     "metadata": {},
     "output_type": "execute_result"
    },
    {
     "data": {
      "image/png": "[encoded data removed]",
      "text/plain": [
       "<Figure size 432x288 with 1 Axes>"
      ]
     },
     "metadata": {
      "needs_background": "light"
     },
     "output_type": "display_data"
    }
   ],
   "source": [
    "import pandas as pd\n",
    "from matplotlib import pyplot as plt\n",
    "import numpy as np\n",
    "import seaborn as sns\n",
    "import pylab as plot\n",
    "\n",
    "print(\"this shows that for men, younger boys were more likely to survive whereas older men were left on the ship\")\n",
    "\n",
    "data = pd.read_csv('./train.csv')\n",
    "data['Age'] = data['Age'].fillna(data['Age'].median())\n",
    "\n",
    "# plt.hist([data[data['Survived']==1][data['Sex']=='male']['Age'], data[data['Survived']==0][data['Sex']=='male']['Age']], stacked=True, color = ['g','r'], bins = 50, label = ['Survived','Dead'])\n",
    "# plt.title(\"Male Survival Based on Age\")\n",
    "# plt.xlabel('Age')\n",
    "# plt.ylabel('Number of passengers')\n",
    "# plt.legend()\n",
    "\n",
    "\n",
    "sns.swarmplot(data=data, x=\"Pclass\", y=\"Fare\", hue=\"Survived\")"
   ]
  },
  {
   "cell_type": "code",
   "execution_count": 40,
   "metadata": {},
   "outputs": [
    {
     "name": "stdout",
     "output_type": "stream",
     "text": [
      "This shows that the women with the lowest fares were the ones most likely to die on the ship\n"
     ]
    },
    {
     "name": "stderr",
     "output_type": "stream",
     "text": [
      "<ipython-input-40-e880d2e06c57>:10: UserWarning: Boolean Series key will be reindexed to match DataFrame index.\n",
      "  plt.hist([data[data['Survived']==1][data['Sex']=='male']['Fare'], data[data['Survived']==0][data['Sex']=='male']['Fare']], stacked=True, color = ['g','r'], bins = 50, label = ['Survived','Dead'])\n",
      "<ipython-input-40-e880d2e06c57>:10: UserWarning: Boolean Series key will be reindexed to match DataFrame index.\n",
      "  plt.hist([data[data['Survived']==1][data['Sex']=='male']['Fare'], data[data['Survived']==0][data['Sex']=='male']['Fare']], stacked=True, color = ['g','r'], bins = 50, label = ['Survived','Dead'])\n"
     ]
    },
    {
     "data": {
      "text/plain": [
       "<matplotlib.legend.Legend at 0x7fb1b0455ee0>"
      ]
     },
     "execution_count": 40,
     "metadata": {},
     "output_type": "execute_result"
    },
    {
     "data": {
      "image/png": "[encoded data removed]",
      "text/plain": [
       "<Figure size 432x288 with 1 Axes>"
      ]
     },
     "metadata": {
      "needs_background": "light"
     },
     "output_type": "display_data"
    }
   ],
   "source": [
    "import pandas as pd\n",
    "from matplotlib import pyplot as plt\n",
    "import numpy as np\n",
    "import seaborn as sns\n",
    "import pylab as plot\n",
    "\n",
    "\n",
    "print(\"This trend is also followed with the men where those with higher fares had a greater chance of survival\")\n",
    "\n",
    "\n",
    "data = pd.read_csv('./train.csv')\n",
    "data['Age'] = data['Age'].fillna(data['Age'].median())\n",
    "print(\"This shows that the women with the lowest fares were the ones most likely to die on the ship\")\n",
    "plt.hist([data[data['Survived']==1][data['Sex']=='male']['Fare'], data[data['Survived']==0][data['Sex']=='male']['Fare']], stacked=True, color = ['g','r'], bins = 50, label = ['Survived','Dead'])\n",
    "# plt.hist(data[data['Survived']==1][data['Sex']=='male']['Age'],  bins = 50, weights=np.ones(len(data[data['Survived']==1][data['Sex']=='male']['Age'])) / len(data[data['Survived']==1][data['Sex']=='male']['Age']))\n",
    "\n",
    "plt.title(\"Meale Survival Based on Fare\")\n",
    "plt.xlabel('Fare')\n",
    "plt.ylabel('Number of passengers')\n",
    "plt.legend()"
   ]
  },
  {
   "cell_type": "code",
   "execution_count": 105,
   "metadata": {},
   "outputs": [
    {
     "name": "stdout",
     "output_type": "stream",
     "text": [
      "     PassengerId  Survived  Pclass     Sex   Age  SibSp  Parch  \\\n",
      "0              1         0       3    male  22.0      1      0   \n",
      "1              2         1       1  female  38.0      1      0   \n",
      "2              3         1       3  female  26.0      0      0   \n",
      "3              4         1       1  female  35.0      1      0   \n",
      "4              5         0       3    male  35.0      0      0   \n",
      "..           ...       ...     ...     ...   ...    ...    ...   \n",
      "886          887         0       2    male  27.0      0      0   \n",
      "887          888         1       1  female  19.0      0      0   \n",
      "888          889         0       3  female  28.0      1      2   \n",
      "889          890         1       1    male  26.0      0      0   \n",
      "890          891         0       3    male  32.0      0      0   \n",
      "\n",
      "               Ticket     Fare Cabin  ...  \\\n",
      "0           A/5 21171   7.2500   NaN  ...   \n",
      "1            PC 17599  71.2833   C85  ...   \n",
      "2    STON/O2. 3101282   7.9250   NaN  ...   \n",
      "3              113803  53.1000  C123  ...   \n",
      "4              373450   8.0500   NaN  ...   \n",
      "..                ...      ...   ...  ...   \n",
      "886            211536  13.0000   NaN  ...   \n",
      "887            112053  30.0000   B42  ...   \n",
      "888        W./C. 6607  23.4500   NaN  ...   \n",
      "889            111369  30.0000  C148  ...   \n",
      "890            370376   7.7500   NaN  ...   \n",
      "\n",
      "    Name_Yrois, Miss. Henriette (\"Mrs Harbeck\")  Name_Zabour, Miss. Hileni  \\\n",
      "0                                             0                          0   \n",
      "1                                             0                          0   \n",
      "2                                             0                          0   \n",
      "3                                             0                          0   \n",
      "4                                             0                          0   \n",
      "..                                          ...                        ...   \n",
      "886                                           0                          0   \n",
      "887                                           0                          0   \n",
      "888                                           0                          0   \n",
      "889                                           0                          0   \n",
      "890                                           0                          0   \n",
      "\n",
      "     Name_Zabour, Miss. Thamine  Name_Zimmerman, Mr. Leo  \\\n",
      "0                             0                        0   \n",
      "1                             0                        0   \n",
      "2                             0                        0   \n",
      "3                             0                        0   \n",
      "4                             0                        0   \n",
      "..                          ...                      ...   \n",
      "886                           0                        0   \n",
      "887                           0                        0   \n",
      "888                           0                        0   \n",
      "889                           0                        0   \n",
      "890                           0                        0   \n",
      "\n",
      "     Name_de Messemaeker, Mrs. Guillaume Joseph (Emma)  \\\n",
      "0                                                    0   \n",
      "1                                                    0   \n",
      "2                                                    0   \n",
      "3                                                    0   \n",
      "4                                                    0   \n",
      "..                                                 ...   \n",
      "886                                                  0   \n",
      "887                                                  0   \n",
      "888                                                  0   \n",
      "889                                                  0   \n",
      "890                                                  0   \n",
      "\n",
      "     Name_de Mulder, Mr. Theodore  Name_de Pelsmaeker, Mr. Alfons  \\\n",
      "0                               0                               0   \n",
      "1                               0                               0   \n",
      "2                               0                               0   \n",
      "3                               0                               0   \n",
      "4                               0                               0   \n",
      "..                            ...                             ...   \n",
      "886                             0                               0   \n",
      "887                             0                               0   \n",
      "888                             0                               0   \n",
      "889                             0                               0   \n",
      "890                             0                               0   \n",
      "\n",
      "     Name_del Carlo, Mr. Sebastiano  Name_van Billiard, Mr. Austin Blyler  \\\n",
      "0                                 0                                     0   \n",
      "1                                 0                                     0   \n",
      "2                                 0                                     0   \n",
      "3                                 0                                     0   \n",
      "4                                 0                                     0   \n",
      "..                              ...                                   ...   \n",
      "886                               0                                     0   \n",
      "887                               0                                     0   \n",
      "888                               0                                     0   \n",
      "889                               0                                     0   \n",
      "890                               0                                     0   \n",
      "\n",
      "     Name_van Melkebeke, Mr. Philemon  \n",
      "0                                   0  \n",
      "1                                   0  \n",
      "2                                   0  \n",
      "3                                   0  \n",
      "4                                   0  \n",
      "..                                ...  \n",
      "886                                 0  \n",
      "887                                 0  \n",
      "888                                 0  \n",
      "889                                 0  \n",
      "890                                 0  \n",
      "\n",
      "[891 rows x 902 columns]\n"
     ]
    },
    {
     "data": {
      "text/plain": [
       "'\\nThis comment is the feature importance in the model \\n'"
      ]
     },
     "execution_count": 105,
     "metadata": {},
     "output_type": "execute_result"
    }
   ],
   "source": [
    "import pandas as pd\n",
    "from matplotlib import pyplot as plt\n",
    "import numpy as np\n",
    "import seaborn as sns\n",
    "import pylab as plot\n",
    "from sklearn.preprocessing import OneHotEncoder\n",
    "from sklearn.ensemble import RandomForestClassifier\n",
    "\n",
    "\n",
    "data = pd.read_csv('./train.csv')\n",
    "test_data = pd.read_csv('./test.csv')\n",
    "data['Age'] = data['Age'].fillna(data['Age'].median())\n",
    "test_data['Age'] = test_data['Age'].fillna(test_data['Age'].median())\n",
    "test_data['Fare'] = test_data['Fare'].fillna(test_data['Fare'].median())\n",
    "\n",
    "one_hot_encoded_data = pd.get_dummies(data, columns = ['Sex'])\n",
    "# one_hot_encoded_data = pd.get_dummies(data, columns = ['Name'])\n",
    "print(one_hot_encoded_data)\n",
    "\n",
    "#one hot encoder for training data\n",
    "\n",
    "# enc = OneHotEncoder(handle_unknown='ignore')\n",
    "# enc_df = pd.DataFrame(enc.fit_transform(data[['Sex']]).toarray())\n",
    "# data = data.join(enc_df)\n",
    "# enc_df = pd.DataFrame(enc.fit_transform(data[['Pclass']]).toarray())\n",
    "# data = data.join(enc_df)\n",
    "\n",
    "# print(data.describe())\n",
    "\n",
    "# enc_df = pd.DataFrame(enc.fit_transform(data[['Sex']]).toarray())\n",
    "# data = data.join(enc_df)\n",
    "# enc_df = pd.DataFrame(enc.fit_transform(test_data[['Pclass']]).toarray())\n",
    "# test_data = test_data.join(enc_df)\n",
    "\n",
    "\n",
    "# beginningofcsv = test_data.iloc[:,0]\n",
    "# print(beginningofcsv)\n",
    "# submission = test_data.iloc[:,:]\n",
    "# test_data = test_data.join(enc_df)\n",
    "# test_data.drop(['PassengerId','Name','Sex','Ticket','Cabin','Embarked','Pclass'], inplace=True, axis=1)\n",
    "\n",
    "\n",
    "\n",
    "# submission = test_data.iloc[:,:]\n",
    "# y = data.iloc[:,1]\n",
    "# # print(y)\n",
    "# data.drop(['PassengerId','Survived','Name','Sex','Ticket','Cabin','Embarked','Pclass'], inplace=True, axis=1)\n",
    "\n",
    "# X = data.iloc[:,:]\n",
    "# # print(data.describe())\n",
    "# # data.head()\n",
    "# training_dataX = X.sample(frac=0.8, random_state=25)\n",
    "\n",
    "# training_datay = y.sample(frac=0.8, random_state=25)\n",
    "\n",
    "# testing_dataX = X.drop(training_dataX.index)\n",
    "# testing_datay = y.drop(training_datay.index)\n",
    "\n",
    "# clf=RandomForestClassifier(n_estimators=100)\n",
    "\n",
    "# clf.fit(training_dataX,training_datay)\n",
    "\n",
    "# predictions = clf.predict(testing_dataX)\n",
    "# submission_predictions = clf.predict(submission)\n",
    "# print(submission_predictions)\n",
    "# score = clf.score(testing_dataX, testing_datay)\n",
    "\n",
    "# print(score)\n",
    "\n",
    "# combined = np.vstack((beginningofcsv, submission_predictions)).T\n",
    "# print(combined)\n",
    "\n",
    "# import csv\n",
    "\n",
    "\n",
    "\n",
    "# with open(\"Submission.csv\",\"w+\") as my_csv:\n",
    "#     csvWriter = csv.writer(my_csv,delimiter=',')\n",
    "#     csvWriter.writerows(combined)\n",
    "\n",
    "\"\"\"\n",
    "This comment is the feature importance in the model \n",
    "\"\"\"\n",
    "# features = pd.DataFrame()\n",
    "# features['feature'] = training_dataX.columns\n",
    "# features['importance'] = clf.feature_importances_\n",
    "# features.sort_values(by=['importance'], ascending=True, inplace=True)\n",
    "# features.set_index('feature', inplace=True)\n",
    "\n",
    "# features.plot(kind='barh', figsize=(25, 25))\n",
    "\n"
   ]
  },
  {
   "cell_type": "code",
   "execution_count": 79,
   "metadata": {},
   "outputs": [
    {
     "name": "stdout",
     "output_type": "stream",
     "text": [
      "This trend is also followed with the men where those with higher fares had a greater chance of survival\n"
     ]
    },
    {
     "data": {
      "text/html": [
       "<div>\n",
       "<style scoped>\n",
       "    .dataframe tbody tr th:only-of-type {\n",
       "        vertical-align: middle;\n",
       "    }\n",
       "\n",
       "    .dataframe tbody tr th {\n",
       "        vertical-align: top;\n",
       "    }\n",
       "\n",
       "    .dataframe thead th {\n",
       "        text-align: right;\n",
       "    }\n",
       "</style>\n",
       "<table border=\"1\" class=\"dataframe\">\n",
       "  <thead>\n",
       "    <tr style=\"text-align: right;\">\n",
       "      <th></th>\n",
       "      <th>PassengerId</th>\n",
       "      <th>Pclass</th>\n",
       "      <th>Age</th>\n",
       "      <th>SibSp</th>\n",
       "      <th>Parch</th>\n",
       "      <th>Fare</th>\n",
       "    </tr>\n",
       "  </thead>\n",
       "  <tbody>\n",
       "    <tr>\n",
       "      <th>count</th>\n",
       "      <td>418.000000</td>\n",
       "      <td>418.000000</td>\n",
       "      <td>332.000000</td>\n",
       "      <td>418.000000</td>\n",
       "      <td>418.000000</td>\n",
       "      <td>417.000000</td>\n",
       "    </tr>\n",
       "    <tr>\n",
       "      <th>mean</th>\n",
       "      <td>1100.500000</td>\n",
       "      <td>2.265550</td>\n",
       "      <td>30.272590</td>\n",
       "      <td>0.447368</td>\n",
       "      <td>0.392344</td>\n",
       "      <td>35.627188</td>\n",
       "    </tr>\n",
       "    <tr>\n",
       "      <th>std</th>\n",
       "      <td>120.810458</td>\n",
       "      <td>0.841838</td>\n",
       "      <td>14.181209</td>\n",
       "      <td>0.896760</td>\n",
       "      <td>0.981429</td>\n",
       "      <td>55.907576</td>\n",
       "    </tr>\n",
       "    <tr>\n",
       "      <th>min</th>\n",
       "      <td>892.000000</td>\n",
       "      <td>1.000000</td>\n",
       "      <td>0.170000</td>\n",
       "      <td>0.000000</td>\n",
       "      <td>0.000000</td>\n",
       "      <td>0.000000</td>\n",
       "    </tr>\n",
       "    <tr>\n",
       "      <th>25%</th>\n",
       "      <td>996.250000</td>\n",
       "      <td>1.000000</td>\n",
       "      <td>21.000000</td>\n",
       "      <td>0.000000</td>\n",
       "      <td>0.000000</td>\n",
       "      <td>7.895800</td>\n",
       "    </tr>\n",
       "    <tr>\n",
       "      <th>50%</th>\n",
       "      <td>1100.500000</td>\n",
       "      <td>3.000000</td>\n",
       "      <td>27.000000</td>\n",
       "      <td>0.000000</td>\n",
       "      <td>0.000000</td>\n",
       "      <td>14.454200</td>\n",
       "    </tr>\n",
       "    <tr>\n",
       "      <th>75%</th>\n",
       "      <td>1204.750000</td>\n",
       "      <td>3.000000</td>\n",
       "      <td>39.000000</td>\n",
       "      <td>1.000000</td>\n",
       "      <td>0.000000</td>\n",
       "      <td>31.500000</td>\n",
       "    </tr>\n",
       "    <tr>\n",
       "      <th>max</th>\n",
       "      <td>1309.000000</td>\n",
       "      <td>3.000000</td>\n",
       "      <td>76.000000</td>\n",
       "      <td>8.000000</td>\n",
       "      <td>9.000000</td>\n",
       "      <td>512.329200</td>\n",
       "    </tr>\n",
       "  </tbody>\n",
       "</table>\n",
       "</div>"
      ],
      "text/plain": [
       "       PassengerId      Pclass         Age       SibSp       Parch        Fare\n",
       "count   418.000000  418.000000  332.000000  418.000000  418.000000  417.000000\n",
       "mean   1100.500000    2.265550   30.272590    0.447368    0.392344   35.627188\n",
       "std     120.810458    0.841838   14.181209    0.896760    0.981429   55.907576\n",
       "min     892.000000    1.000000    0.170000    0.000000    0.000000    0.000000\n",
       "25%     996.250000    1.000000   21.000000    0.000000    0.000000    7.895800\n",
       "50%    1100.500000    3.000000   27.000000    0.000000    0.000000   14.454200\n",
       "75%    1204.750000    3.000000   39.000000    1.000000    0.000000   31.500000\n",
       "max    1309.000000    3.000000   76.000000    8.000000    9.000000  512.329200"
      ]
     },
     "execution_count": 79,
     "metadata": {},
     "output_type": "execute_result"
    }
   ],
   "source": [
    "import pandas as pd\n",
    "from matplotlib import pyplot as plt\n",
    "import numpy as np\n",
    "import seaborn as sns\n",
    "import pylab as plot\n",
    "\n",
    "\n",
    "print(\"This trend is also followed with the men where those with higher fares had a greater chance of survival\")\n",
    "\n",
    "\n",
    "data = pd.read_csv('./test.csv')\n",
    "data.describe()"
   ]
  },
  {
   "cell_type": "code",
   "execution_count": null,
   "metadata": {},
   "outputs": [],
   "source": []
  }
 ],
 "metadata": {
  "interpreter": {
   "hash": "2c12ec1b0ff373a3beb69f33898461f7c30acfcfd9382bd5a45016df665c6f4b"
  },
  "kernelspec": {
   "display_name": "Python 3.8.5 64-bit (conda)",
   "language": "python",
   "name": "python3"
  },
  "language_info": {
   "codemirror_mode": {
    "name": "ipython",
    "version": 3
   },
   "file_extension": ".py",
   "mimetype": "text/x-python",
   "name": "python",
   "nbconvert_exporter": "python",
   "pygments_lexer": "ipython3",
   "version": "3.8.5"
  },
  "orig_nbformat": 4
 },
 "nbformat": 4,
 "nbformat_minor": 2
}
