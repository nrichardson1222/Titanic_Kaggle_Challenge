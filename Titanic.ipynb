{
 "cells": [
  {
   "cell_type": "code",
   "execution_count": 31,
   "metadata": {},
   "outputs": [
    {
     "name": "stdout",
     "output_type": "stream",
     "text": [
      "   PassengerId  Survived  Pclass  \\\n",
      "0            1         0       3   \n",
      "1            2         1       1   \n",
      "2            3         1       3   \n",
      "3            4         1       1   \n",
      "4            5         0       3   \n",
      "\n",
      "                                                Name     Sex   Age  SibSp  \\\n",
      "0                            Braund, Mr. Owen Harris    male  22.0      1   \n",
      "1  Cumings, Mrs. John Bradley (Florence Briggs Th...  female  38.0      1   \n",
      "2                             Heikkinen, Miss. Laina  female  26.0      0   \n",
      "3       Futrelle, Mrs. Jacques Heath (Lily May Peel)  female  35.0      1   \n",
      "4                           Allen, Mr. William Henry    male  35.0      0   \n",
      "\n",
      "   Parch            Ticket     Fare Cabin Embarked  \n",
      "0      0         A/5 21171   7.2500   NaN        S  \n",
      "1      0          PC 17599  71.2833   C85        C  \n",
      "2      0  STON/O2. 3101282   7.9250   NaN        S  \n",
      "3      0            113803  53.1000  C123        S  \n",
      "4      0            373450   8.0500   NaN        S  \n",
      "The percentage of men who lived was  0.18890814558058924\n",
      "The percentage of women who lived was  0.7420382165605095\n",
      "This shows that there is a large correlation between gender and whether the person survived or not\n",
      "I will now look to see if there is an age correlation for survival\n"
     ]
    },
    {
     "name": "stderr",
     "output_type": "stream",
     "text": [
      "<ipython-input-31-d37dce259475>:14: UserWarning: Boolean Series key will be reindexed to match DataFrame index.\n",
      "  numMenSurvived = data[data['Survived']==1][data['Sex']=='male']['Age'].size\n",
      "<ipython-input-31-d37dce259475>:15: UserWarning: Boolean Series key will be reindexed to match DataFrame index.\n",
      "  numMenDied = data[data['Survived']==0][data['Sex']=='male']['Age'].size\n",
      "<ipython-input-31-d37dce259475>:16: UserWarning: Boolean Series key will be reindexed to match DataFrame index.\n",
      "  numWomenSurvived = data[data['Survived']==1][data['Sex']=='female']['Age'].size\n",
      "<ipython-input-31-d37dce259475>:17: UserWarning: Boolean Series key will be reindexed to match DataFrame index.\n",
      "  numWomenDied = data[data['Survived']==0][data['Sex']=='female']['Age'].size\n"
     ]
    },
    {
     "data": {
      "image/png": "[encoded data removed]",
      "text/plain": [
       "<Figure size 720x504 with 1 Axes>"
      ]
     },
     "metadata": {
      "needs_background": "light"
     },
     "output_type": "display_data"
    }
   ],
   "source": [
    "import pandas as pd\n",
    "from matplotlib import pyplot as plt\n",
    "import numpy as np\n",
    "import seaborn as sns\n",
    "import pylab as plot\n",
    "\n",
    "\n",
    "data = pd.read_csv('./train.csv')\n",
    "#print(data.shape) #in rows then columns\n",
    "print(data.head()) #gives the first five rows of each column\n",
    "\n",
    "data['Died'] = 1 - data['Survived']\n",
    "\n",
    "numMenSurvived = data[data['Survived']==1][data['Sex']=='male']['Age'].size\n",
    "numMenDied = data[data['Survived']==0][data['Sex']=='male']['Age'].size\n",
    "numWomenSurvived = data[data['Survived']==1][data['Sex']=='female']['Age'].size\n",
    "numWomenDied = data[data['Survived']==0][data['Sex']=='female']['Age'].size\n",
    "\n",
    "\n",
    "data.groupby('Sex').agg('mean')[['Survived', 'Died']].plot(kind='bar', figsize=(10, 7), stacked=True)\n",
    "print(\"The percentage of men who lived was \", numMenSurvived/(numMenSurvived+numMenDied))\n",
    "print(\"The percentage of women who lived was \", numWomenSurvived/(numWomenSurvived+numWomenDied))\n",
    "\n",
    "print(\"This shows that there is a large correlation between gender and whether the person survived or not\")\n",
    "print(\"I will now look to see if there is an age correlation for survival\")\n",
    "\n"
   ]
  },
  {
   "cell_type": "code",
   "execution_count": 32,
   "metadata": {},
   "outputs": [
    {
     "name": "stdout",
     "output_type": "stream",
     "text": [
      "this shows that for men, younger boys were more likely to survive whereas older men were left on the ship\n"
     ]
    },
    {
     "name": "stderr",
     "output_type": "stream",
     "text": [
      "<ipython-input-32-c5ea906a9258>:10: UserWarning: Boolean Series key will be reindexed to match DataFrame index.\n",
      "  plt.hist([data[data['Survived']==1][data['Sex']=='male']['Age'], data[data['Survived']==0][data['Sex']=='male']['Age']], stacked=True, color = ['g','r'], bins = 50, label = ['Survived','Dead'])\n",
      "<ipython-input-32-c5ea906a9258>:10: UserWarning: Boolean Series key will be reindexed to match DataFrame index.\n",
      "  plt.hist([data[data['Survived']==1][data['Sex']=='male']['Age'], data[data['Survived']==0][data['Sex']=='male']['Age']], stacked=True, color = ['g','r'], bins = 50, label = ['Survived','Dead'])\n"
     ]
    },
    {
     "data": {
      "text/plain": [
       "<matplotlib.legend.Legend at 0x7fb1900e7e80>"
      ]
     },
     "execution_count": 32,
     "metadata": {},
     "output_type": "execute_result"
    },
    {
     "data": {
      "image/png": "[encoded data removed]",
      "text/plain": [
       "<Figure size 432x288 with 1 Axes>"
      ]
     },
     "metadata": {
      "needs_background": "light"
     },
     "output_type": "display_data"
    }
   ],
   "source": [
    "import pandas as pd\n",
    "from matplotlib import pyplot as plt\n",
    "import numpy as np\n",
    "import seaborn as sns\n",
    "import pylab as plot\n",
    "\n",
    "print(\"this shows that for men, younger boys were more likely to survive whereas older men were left on the ship\")\n",
    "\n",
    "data = pd.read_csv('./train.csv')\n",
    "plt.hist([data[data['Survived']==1][data['Sex']=='male']['Age'], data[data['Survived']==0][data['Sex']=='male']['Age']], stacked=True, color = ['g','r'], bins = 50, label = ['Survived','Dead'])\n",
    "plt.title(\"Male Survival Based on Age\")\n",
    "plt.xlabel('Age')\n",
    "plt.ylabel('Number of passengers')\n",
    "plt.legend()"
   ]
  },
  {
   "cell_type": "code",
   "execution_count": 15,
   "metadata": {},
   "outputs": [
    {
     "name": "stderr",
     "output_type": "stream",
     "text": [
      "<ipython-input-15-9023768196de>:9: UserWarning: Boolean Series key will be reindexed to match DataFrame index.\n",
      "  plt.hist([data[data['Survived']==1][data['Sex']=='female']['Age'], data[data['Survived']==0][data['Sex']=='female']['Age']], stacked=True, color = ['g','r'], bins = 50, label = ['Survived','Dead'])\n",
      "<ipython-input-15-9023768196de>:9: UserWarning: Boolean Series key will be reindexed to match DataFrame index.\n",
      "  plt.hist([data[data['Survived']==1][data['Sex']=='female']['Age'], data[data['Survived']==0][data['Sex']=='female']['Age']], stacked=True, color = ['g','r'], bins = 50, label = ['Survived','Dead'])\n"
     ]
    },
    {
     "data": {
      "text/plain": [
       "<matplotlib.legend.Legend at 0x7fb1f13ef340>"
      ]
     },
     "execution_count": 15,
     "metadata": {},
     "output_type": "execute_result"
    },
    {
     "data": {
      "image/png": "[encoded data removed]",
      "text/plain": [
       "<Figure size 432x288 with 1 Axes>"
      ]
     },
     "metadata": {
      "needs_background": "light"
     },
     "output_type": "display_data"
    }
   ],
   "source": [
    "import pandas as pd\n",
    "from matplotlib import pyplot as plt\n",
    "import numpy as np\n",
    "import seaborn as sns\n",
    "import pylab as plot\n",
    "\n",
    "print(\"This once again shows that younger women had a very great chance to survive.\")\n",
    "data = pd.read_csv('./train.csv')\n",
    "plt.hist([data[data['Survived']==1][data['Sex']=='female']['Age'], data[data['Survived']==0][data['Sex']=='female']['Age']], stacked=True, color = ['g','r'], bins = 50, label = ['Survived','Dead'])\n",
    "# plt.hist(data[data['Survived']==1][data['Sex']=='male']['Age'],  bins = 50, weights=np.ones(len(data[data['Survived']==1][data['Sex']=='male']['Age'])) / len(data[data['Survived']==1][data['Sex']=='male']['Age']))\n",
    "\n",
    "plt.title(\"Female Survival Based on Age\")\n",
    "plt.xlabel('Age')\n",
    "plt.ylabel('Number of passengers')\n",
    "plt.legend()"
   ]
  },
  {
   "cell_type": "code",
   "execution_count": null,
   "metadata": {},
   "outputs": [],
   "source": []
  }
 ],
 "metadata": {
  "interpreter": {
   "hash": "2c12ec1b0ff373a3beb69f33898461f7c30acfcfd9382bd5a45016df665c6f4b"
  },
  "kernelspec": {
   "display_name": "Python 3.8.5 64-bit (conda)",
   "language": "python",
   "name": "python3"
  },
  "language_info": {
   "codemirror_mode": {
    "name": "ipython",
    "version": 3
   },
   "file_extension": ".py",
   "mimetype": "text/x-python",
   "name": "python",
   "nbconvert_exporter": "python",
   "pygments_lexer": "ipython3",
   "version": "3.8.5"
  },
  "orig_nbformat": 4
 },
 "nbformat": 4,
 "nbformat_minor": 2
}
